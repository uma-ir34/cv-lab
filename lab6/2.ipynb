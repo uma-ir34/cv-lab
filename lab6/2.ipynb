{
 "cells": [
  {
   "cell_type": "code",
   "execution_count": 1,
   "id": "a89cdf06",
   "metadata": {},
   "outputs": [
    {
     "name": "stdout",
     "output_type": "stream",
     "text": [
      "Number of good matches: 6\n"
     ]
    },
    {
     "name": "stderr",
     "output_type": "stream",
     "text": [
      "QSocketNotifier: Can only be used with threads started with QThread\n"
     ]
    }
   ],
   "source": [
    "import cv2\n",
    "import numpy as np\n",
    "\n",
    "def ratio_test_matching(image1_path, image2_path, ratio_threshold=0.75):\n",
    "   \n",
    "    # Load the images\n",
    "    img1 = cv2.imread(image1_path, cv2.IMREAD_GRAYSCALE)\n",
    "    img2 = cv2.imread(image2_path, cv2.IMREAD_GRAYSCALE)\n",
    "    \n",
    "    # Initialize ORB detector\n",
    "    orb = cv2.ORB_create()\n",
    "    \n",
    "    # Detect and compute keypoints and descriptors\n",
    "    keypoints1, descriptors1 = orb.detectAndCompute(img1, None)\n",
    "    keypoints2, descriptors2 = orb.detectAndCompute(img2, None)\n",
    "    \n",
    "    # Match descriptors using BFMatcher with L2 norm\n",
    "    bf = cv2.BFMatcher(cv2.NORM_L2)\n",
    "    matches = bf.knnMatch(descriptors1, descriptors2, k=2)  # Find the two nearest neighbors for each descriptor\n",
    "    \n",
    "    # Apply the ratio test\n",
    "    good_matches = []\n",
    "    for m, n in matches:\n",
    "        if m.distance < ratio_threshold * n.distance:\n",
    "            good_matches.append(m)\n",
    "    \n",
    "    return good_matches, keypoints1, keypoints2, img1, img2\n",
    "\n",
    "def draw_matches(matches, keypoints1, keypoints2, img1, img2, max_matches=20):\n",
    "    \"\"\"\n",
    "    Draws the matches between two images.\n",
    "    \"\"\"\n",
    "    match_img = cv2.drawMatches(img1, keypoints1, img2, keypoints2, matches[:max_matches], None, flags=cv2.DrawMatchesFlags_NOT_DRAW_SINGLE_POINTS)\n",
    "    return match_img\n",
    "\n",
    "if __name__ == \"__main__\":\n",
    "    # Paths to the input images\n",
    "    image1_path = \"/home/student/Pictures/Screenshots/Screenshot from 2024-12-04 11-43-12.png\"  # Replace with your image path\n",
    "    image2_path = \"/home/student/Pictures/Screenshots/Screenshot from 2024-12-05 09-52-26.png\"  # Replace with your image path\n",
    "\n",
    "    # Perform ratio test matching\n",
    "    good_matches, keypoints1, keypoints2, img1, img2 = ratio_test_matching(image1_path, image2_path)\n",
    "    print(f\"Number of good matches: {len(good_matches)}\")\n",
    "    \n",
    "    # Draw and display matches\n",
    "    match_img = draw_matches(good_matches, keypoints1, keypoints2, img1, img2)\n",
    "    cv2.imshow(\"Good Matches\", match_img)\n",
    "    cv2.waitKey(0)\n",
    "    cv2.destroyAllWindows()\n"
   ]
  },
  {
   "cell_type": "code",
   "execution_count": null,
   "id": "48b34a33",
   "metadata": {},
   "outputs": [],
   "source": []
  }
 ],
 "metadata": {
  "kernelspec": {
   "display_name": "Python 3 (ipykernel)",
   "language": "python",
   "name": "python3"
  },
  "language_info": {
   "codemirror_mode": {
    "name": "ipython",
    "version": 3
   },
   "file_extension": ".py",
   "mimetype": "text/x-python",
   "name": "python",
   "nbconvert_exporter": "python",
   "pygments_lexer": "ipython3",
   "version": "3.12.3"
  }
 },
 "nbformat": 4,
 "nbformat_minor": 5
}
