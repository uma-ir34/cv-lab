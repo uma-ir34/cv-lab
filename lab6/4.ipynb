{
 "cells": [
  {
   "cell_type": "code",
   "execution_count": 1,
   "id": "f97b5849",
   "metadata": {},
   "outputs": [
    {
     "name": "stderr",
     "output_type": "stream",
     "text": [
      "QSocketNotifier: Can only be used with threads started with QThread\n"
     ]
    },
    {
     "name": "stdout",
     "output_type": "stream",
     "text": [
      "Panorama saved as 'panorama.jpg'\n"
     ]
    }
   ],
   "source": [
    "import cv2\n",
    "import numpy as np\n",
    "\n",
    "def stitch_images(image1_path, image2_path, ratio_threshold=0.75, ransac_threshold=5.0):\n",
    "    \"\"\"\n",
    "    Stitches two images together to create a panoramic image using feature matching and homography.\n",
    "\n",
    "    Parameters:\n",
    "    - image1_path: Path to the first image.\n",
    "    - image2_path: Path to the second image.\n",
    "    - ratio_threshold: Ratio test threshold for feature matching (default is 0.75).\n",
    "    - ransac_threshold: RANSAC pixel threshold for homography estimation (default is 5.0).\n",
    "\n",
    "    Returns:\n",
    "    - result: The stitched panorama image.\n",
    "    \"\"\"\n",
    "    # Load the images\n",
    "    img1 = cv2.imread(image1_path)\n",
    "    img2 = cv2.imread(image2_path)\n",
    "    \n",
    "    # Convert to grayscale\n",
    "    gray1 = cv2.cvtColor(img1, cv2.COLOR_BGR2GRAY)\n",
    "    gray2 = cv2.cvtColor(img2, cv2.COLOR_BGR2GRAY)\n",
    "    \n",
    "    # Detect and compute features using ORB\n",
    "    orb = cv2.ORB_create()\n",
    "    keypoints1, descriptors1 = orb.detectAndCompute(gray1, None)\n",
    "    keypoints2, descriptors2 = orb.detectAndCompute(gray2, None)\n",
    "    \n",
    "    # Match descriptors using BFMatcher with L2 norm\n",
    "    bf = cv2.BFMatcher(cv2.NORM_L2)\n",
    "    matches = bf.knnMatch(descriptors1, descriptors2, k=2)\n",
    "    \n",
    "    # Apply the ratio test to filter matches\n",
    "    good_matches = []\n",
    "    for m, n in matches:\n",
    "        if m.distance < ratio_threshold * n.distance:\n",
    "            good_matches.append(m)\n",
    "    \n",
    "    if len(good_matches) < 4:\n",
    "        print(\"Not enough good matches to estimate homography.\")\n",
    "        return None\n",
    "    \n",
    "    # Extract matched points\n",
    "    src_points = np.float32([keypoints1[m.queryIdx].pt for m in good_matches]).reshape(-1, 1, 2)\n",
    "    dst_points = np.float32([keypoints2[m.trainIdx].pt for m in good_matches]).reshape(-1, 1, 2)\n",
    "    \n",
    "    # Estimate the homography matrix using RANSAC\n",
    "    homography_matrix, mask = cv2.findHomography(src_points, dst_points, cv2.RANSAC, ransac_threshold)\n",
    "    \n",
    "    # Warp one image onto the other using the homography matrix\n",
    "    height, width, _ = img2.shape\n",
    "    panorama = cv2.warpPerspective(img1, homography_matrix, (width + img1.shape[1], height))\n",
    "    \n",
    "    # Overlay the second image onto the panorama\n",
    "    panorama[0:height, 0:width] = img2\n",
    "    \n",
    "    return panorama\n",
    "\n",
    "if __name__ == \"__main__\":\n",
    "    # Paths to the input images\n",
    "    image1_path = \"/home/student/Pictures/Screenshots/Screenshot from 2024-12-06 11-15-29.png\"  # Replace with your image path\n",
    "    image2_path = \"/home/student/Pictures/Screenshots/Screenshot from 2024-12-06 11-30-13.png\"  # Replace with your image path\n",
    "\n",
    "    # Stitch the images together\n",
    "    panorama = stitch_images(image1_path, image2_path)\n",
    "    \n",
    "    if panorama is not None:\n",
    "        # Display the stitched panorama\n",
    "        cv2.imshow(\"Panorama\", panorama)\n",
    "        cv2.waitKey(0)\n",
    "        cv2.destroyAllWindows()\n",
    "        \n",
    "        # Save the result\n",
    "        cv2.imwrite(\"panorama.jpg\", panorama)\n",
    "        print(\"Panorama saved as 'panorama.jpg'\")\n",
    "    else:\n",
    "        print(\"Failed to stitch images.\")\n"
   ]
  },
  {
   "cell_type": "code",
   "execution_count": null,
   "id": "f6eba0aa",
   "metadata": {},
   "outputs": [],
   "source": []
  }
 ],
 "metadata": {
  "kernelspec": {
   "display_name": "Python 3 (ipykernel)",
   "language": "python",
   "name": "python3"
  },
  "language_info": {
   "codemirror_mode": {
    "name": "ipython",
    "version": 3
   },
   "file_extension": ".py",
   "mimetype": "text/x-python",
   "name": "python",
   "nbconvert_exporter": "python",
   "pygments_lexer": "ipython3",
   "version": "3.12.3"
  }
 },
 "nbformat": 4,
 "nbformat_minor": 5
}
