{
 "cells": [
  {
   "cell_type": "code",
   "execution_count": 1,
   "id": "77661e25",
   "metadata": {},
   "outputs": [
    {
     "name": "stdout",
     "output_type": "stream",
     "text": [
      "Estimated Homography Matrix:\n",
      "[[-3.43896053e+00 -6.46812038e-02  9.06831689e+01]\n",
      " [-1.75718828e+00 -5.76913383e+00  3.85474087e+02]\n",
      " [-1.27793088e-02 -1.26120870e-02  1.00000000e+00]]\n",
      "Number of inliers: 4 / 7\n"
     ]
    },
    {
     "name": "stderr",
     "output_type": "stream",
     "text": [
      "QSocketNotifier: Can only be used with threads started with QThread\n"
     ]
    }
   ],
   "source": [
    "import cv2\n",
    "import numpy as np\n",
    "\n",
    "def estimate_homography(image1_path, image2_path, ratio_threshold=0.75, ransac_threshold=5.0):\n",
    "  \n",
    "    # Load the images\n",
    "    img1 = cv2.imread(image1_path, cv2.IMREAD_GRAYSCALE)\n",
    "    img2 = cv2.imread(image2_path, cv2.IMREAD_GRAYSCALE)\n",
    "    \n",
    "    # Detect and compute keypoints and descriptors using ORB\n",
    "    orb = cv2.ORB_create()\n",
    "    keypoints1, descriptors1 = orb.detectAndCompute(img1, None)\n",
    "    keypoints2, descriptors2 = orb.detectAndCompute(img2, None)\n",
    "    \n",
    "    # Match descriptors using BFMatcher with L2 norm\n",
    "    bf = cv2.BFMatcher(cv2.NORM_L2)\n",
    "    matches = bf.knnMatch(descriptors1, descriptors2, k=2)\n",
    "    \n",
    "    # Apply the ratio test to filter matches\n",
    "    good_matches = []\n",
    "    for m, n in matches:\n",
    "        if m.distance < ratio_threshold * n.distance:\n",
    "            good_matches.append(m)\n",
    "    \n",
    "    if len(good_matches) < 4:\n",
    "        print(\"Not enough matches to estimate homography.\")\n",
    "        return None, None, good_matches, keypoints1, keypoints2, img1, img2\n",
    "\n",
    "    # Extract matched points\n",
    "    src_points = np.float32([keypoints1[m.queryIdx].pt for m in good_matches]).reshape(-1, 1, 2)\n",
    "    dst_points = np.float32([keypoints2[m.trainIdx].pt for m in good_matches]).reshape(-1, 1, 2)\n",
    "    \n",
    "    # Estimate the homography matrix using RANSAC\n",
    "    homography_matrix, mask = cv2.findHomography(src_points, dst_points, cv2.RANSAC, ransac_threshold)\n",
    "    \n",
    "    return homography_matrix, mask, good_matches, keypoints1, keypoints2, img1, img2\n",
    "\n",
    "def draw_matches_with_inliers(matches, mask, keypoints1, keypoints2, img1, img2):\n",
    "    \"\"\"\n",
    "    Draws matches between two images, highlighting inliers and excluding outliers.\n",
    "\n",
    "    Parameters:\n",
    "    - matches: List of matches.\n",
    "    - mask: Inlier mask from RANSAC.\n",
    "    - keypoints1: Keypoints from the first image.\n",
    "    - keypoints2: Keypoints from the second image.\n",
    "    - img1: The first image (grayscale).\n",
    "    - img2: The second image (grayscale).\n",
    "    \"\"\"\n",
    "    # Keep only inliers\n",
    "    inlier_matches = [match for match, m in zip(matches, mask.ravel()) if m == 1]\n",
    "    match_img = cv2.drawMatches(img1, keypoints1, img2, keypoints2, inlier_matches, None,\n",
    "                                flags=cv2.DrawMatchesFlags_NOT_DRAW_SINGLE_POINTS)\n",
    "    return match_img\n",
    "\n",
    "if __name__ == \"__main__\":\n",
    "    # Paths to the input images\n",
    "    image1_path = \"/home/student/Pictures/Screenshots/Screenshot from 2024-12-04 11-56-45.png\"  # Replace with your image path\n",
    "    image2_path = \"/home/student/Pictures/Screenshots/Screenshot from 2024-12-05 09-48-55.png\"  # Replace with your image path\n",
    "\n",
    "    # Estimate the homography matrix\n",
    "    homography_matrix, mask, good_matches, keypoints1, keypoints2, img1, img2 = estimate_homography(\n",
    "        image1_path, image2_path\n",
    "    )\n",
    "    \n",
    "    if homography_matrix is not None:\n",
    "        print(\"Estimated Homography Matrix:\")\n",
    "        print(homography_matrix)\n",
    "        print(f\"Number of inliers: {np.sum(mask)} / {len(good_matches)}\")\n",
    "        \n",
    "        # Draw matches with inliers\n",
    "        match_img = draw_matches_with_inliers(good_matches, mask, keypoints1, keypoints2, img1, img2)\n",
    "        cv2.imshow(\"Inlier Matches\", match_img)\n",
    "        cv2.waitKey(0)\n",
    "        cv2.destroyAllWindows()\n",
    "    else:\n",
    "        print(\"Failed to estimate homography.\")\n"
   ]
  },
  {
   "cell_type": "code",
   "execution_count": null,
   "id": "f9b120d2",
   "metadata": {},
   "outputs": [],
   "source": []
  }
 ],
 "metadata": {
  "kernelspec": {
   "display_name": "Python 3 (ipykernel)",
   "language": "python",
   "name": "python3"
  },
  "language_info": {
   "codemirror_mode": {
    "name": "ipython",
    "version": 3
   },
   "file_extension": ".py",
   "mimetype": "text/x-python",
   "name": "python",
   "nbconvert_exporter": "python",
   "pygments_lexer": "ipython3",
   "version": "3.12.3"
  }
 },
 "nbformat": 4,
 "nbformat_minor": 5
}
