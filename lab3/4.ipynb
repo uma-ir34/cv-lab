{
 "cells": [
  {
   "cell_type": "code",
   "execution_count": 1,
   "id": "a37d78f4",
   "metadata": {},
   "outputs": [
    {
     "name": "stderr",
     "output_type": "stream",
     "text": [
      "QSocketNotifier: Can only be used with threads started with QThread\n"
     ]
    }
   ],
   "source": [
    "import cv2\n",
    "\n",
    "def detect_edges(image, low_threshold=50, high_threshold=150):\n",
    "    \"\"\"\n",
    "    Detect edges in an image using the Canny Edge Detection method.\n",
    "    \n",
    "    :param image: Input grayscale image.\n",
    "    :param low_threshold: Lower bound for the hysteresis thresholding.\n",
    "    :param high_threshold: Upper bound for the hysteresis thresholding.\n",
    "    :return: Edge-detected image.\n",
    "    \"\"\"\n",
    "    edges = cv2.Canny(image, low_threshold, high_threshold)\n",
    "    return edges\n",
    "\n",
    "# Read the image\n",
    "image_path = \"/home/student/Pictures/Screenshots/Screenshot from 2024-12-05 09-48-55.png\"  # Replace with your image path\n",
    "image = cv2.imread(image_path)\n",
    "\n",
    "if image is None:\n",
    "    print(\"Error: Unable to load image. Please check the path.\")\n",
    "else:\n",
    "    # Convert the image to grayscale\n",
    "    grayscale_image = cv2.cvtColor(image, cv2.COLOR_BGR2GRAY)\n",
    "\n",
    "    # Detect edges\n",
    "    edges = detect_edges(grayscale_image, low_threshold=50, high_threshold=150)\n",
    "\n",
    "    # Display the results\n",
    "    cv2.imshow(\"Original Image\", image)\n",
    "    cv2.imshow(\"Edge-Detected Image\", edges)\n",
    "    \n",
    "    cv2.waitKey(0)\n",
    "    cv2.destroyAllWindows()\n"
   ]
  },
  {
   "cell_type": "code",
   "execution_count": null,
   "id": "afe6d6ba",
   "metadata": {},
   "outputs": [],
   "source": []
  }
 ],
 "metadata": {
  "kernelspec": {
   "display_name": "Python 3 (ipykernel)",
   "language": "python",
   "name": "python3"
  },
  "language_info": {
   "codemirror_mode": {
    "name": "ipython",
    "version": 3
   },
   "file_extension": ".py",
   "mimetype": "text/x-python",
   "name": "python",
   "nbconvert_exporter": "python",
   "pygments_lexer": "ipython3",
   "version": "3.12.3"
  }
 },
 "nbformat": 4,
 "nbformat_minor": 5
}
