{
 "cells": [
  {
   "cell_type": "code",
   "execution_count": 4,
   "id": "68db9ad8",
   "metadata": {},
   "outputs": [],
   "source": [
    "import cv2\n",
    "import numpy as np\n",
    "\n",
    "def unsharp_mask(image, kernel_size=(5, 5), sigma=1.0, amount=1.5, threshold=0):\n",
    "    \"\"\"\n",
    "    Perform unsharp masking to enhance edges.\n",
    "    \n",
    "    :param image: Input image (grayscale or color).\n",
    "    :param kernel_size: Size of the Gaussian kernel.\n",
    "    :param sigma: Standard deviation of the Gaussian kernel.\n",
    "    :param amount: Scaling factor for the sharpness.\n",
    "    :param threshold: Threshold for edge masking.\n",
    "    :return: Sharpened image.\n",
    "    \"\"\"\n",
    "    # Create a blurred version of the image\n",
    "    blurred = cv2.GaussianBlur(image, kernel_size, sigma)\n",
    "    \n",
    "    # Calculate the mask (difference between the original and blurred images)\n",
    "    mask = cv2.subtract(image, blurred)\n",
    "    \n",
    "    # Amplify the mask and add it to the original image\n",
    "    sharpened = cv2.addWeighted(image, 1 + amount, mask, amount, 0)\n",
    "    \n",
    "    # Apply a threshold to mask weak edges (optional)\n",
    "    if threshold > 0:\n",
    "        low_contrast_mask = np.abs(image - blurred) < threshold\n",
    "        sharpened[low_contrast_mask] = image[low_contrast_mask]\n",
    "    \n",
    "    return sharpened\n",
    "\n",
    "# Read an image\n",
    "image_path = \"/home/student/Pictures/Screenshots/Screenshot from 2024-12-05 09-37-04.png\"  # Replace with the path to your image\n",
    "image = cv2.imread(image_path)\n",
    "\n",
    "if image is None:\n",
    "    print(\"Error: Unable to load image. Please check the path.\")\n",
    "else:\n",
    "    # Convert to grayscale (optional, if working with color images)\n",
    "    grayscale = cv2.cvtColor(image, cv2.COLOR_BGR2GRAY)\n",
    "\n",
    "    # Apply unsharp masking\n",
    "    sharpened_image = unsharp_mask(grayscale, kernel_size=(5, 5), sigma=1.0, amount=1.5, threshold=10)\n",
    "\n",
    "    # Display results\n",
    "    cv2.imshow(\"Original\", grayscale)\n",
    "    cv2.imshow(\"Sharpened\", sharpened_image)\n",
    "    cv2.waitKey(0)\n",
    "    cv2.destroyAllWindows()\n"
   ]
  },
  {
   "cell_type": "code",
   "execution_count": null,
   "id": "fa9e7155",
   "metadata": {},
   "outputs": [],
   "source": []
  }
 ],
 "metadata": {
  "kernelspec": {
   "display_name": "Python 3 (ipykernel)",
   "language": "python",
   "name": "python3"
  },
  "language_info": {
   "codemirror_mode": {
    "name": "ipython",
    "version": 3
   },
   "file_extension": ".py",
   "mimetype": "text/x-python",
   "name": "python",
   "nbconvert_exporter": "python",
   "pygments_lexer": "ipython3",
   "version": "3.12.3"
  }
 },
 "nbformat": 4,
 "nbformat_minor": 5
}
