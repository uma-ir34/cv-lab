{
 "cells": [
  {
   "cell_type": "code",
   "execution_count": null,
   "id": "5c5721b9",
   "metadata": {},
   "outputs": [
    {
     "name": "stderr",
     "output_type": "stream",
     "text": [
      "QSocketNotifier: Can only be used with threads started with QThread\n"
     ]
    }
   ],
   "source": [
    "import cv2\n",
    "\n",
    "# Read the image\n",
    "image_path = '/home/student/Pictures/Screenshots/Screenshot from 2024-12-03 12-23-34.png'  # Replace with your image path\n",
    "image = cv2.imread(image_path)\n",
    "\n",
    "# Check if image is loaded properly\n",
    "if image is None:\n",
    "    print(\"Error: Could not load image.\")\n",
    "    exit()\n",
    "\n",
    "# Resize the image to a specific size (width, height)\n",
    "new_width = 300\n",
    "new_height = 300\n",
    "resized_image = cv2.resize(image, (new_width, new_height))\n",
    "\n",
    "# Alternatively, resize by a scaling factor (e.g., 0.5 for 50% of original size)\n",
    "# resized_image = cv2.resize(image, None, fx=0.5, fy=0.5)\n",
    "\n",
    "# Display the resized image\n",
    "cv2.imshow('Resized Image', resized_image)\n",
    "\n",
    "# Wait for a key press and close the window\n",
    "cv2.waitKey(0)\n",
    "cv2.destroyAllWindows()\n"
   ]
  },
  {
   "cell_type": "code",
   "execution_count": null,
   "id": "9b9d0350",
   "metadata": {},
   "outputs": [],
   "source": []
  }
 ],
 "metadata": {
  "kernelspec": {
   "display_name": "Python 3 (ipykernel)",
   "language": "python",
   "name": "python3"
  },
  "language_info": {
   "codemirror_mode": {
    "name": "ipython",
    "version": 3
   },
   "file_extension": ".py",
   "mimetype": "text/x-python",
   "name": "python",
   "nbconvert_exporter": "python",
   "pygments_lexer": "ipython3",
   "version": "3.12.3"
  }
 },
 "nbformat": 4,
 "nbformat_minor": 5
}
