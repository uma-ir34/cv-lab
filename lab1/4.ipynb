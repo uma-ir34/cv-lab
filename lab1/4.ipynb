{
 "cells": [
  {
   "cell_type": "code",
   "execution_count": null,
   "id": "5e82f747",
   "metadata": {},
   "outputs": [],
   "source": [
    "import cv2\n",
    "import numpy as np\n",
    "# Create a blank white image\n",
    "image = 255 * np.ones(shape=(500, 500, 3), dtype=np.uint8)\n",
    "\n",
    "# Define the top-left and bottom-right corner coordinates\n",
    "top_left = (50, 50)   # (x, y) of the top-left corner\n",
    "bottom_right = (400, 400)  # (x, y) of the bottom-right corner\n",
    "\n",
    "# Define the rectangle color (BGR format)\n",
    "color = (0, 255, 0)  # Green color\n",
    "\n",
    "# Define the thickness of the rectangle's border\n",
    "thickness = 2  # 2 pixels thick\n",
    "\n",
    "# Draw the rectangle on the image\n",
    "cv2.rectangle(image, top_left, bottom_right, color, thickness)\n",
    "\n",
    "# Display the image with the rectangle\n",
    "cv2.imshow('Image with Rectangle', image)\n",
    "\n",
    "# Wait for a key press and close the image window\n",
    "cv2.waitKey(0)\n",
    "cv2.destroyAllWindows()\n"
   ]
  },
  {
   "cell_type": "code",
   "execution_count": null,
   "id": "9eacb7ea",
   "metadata": {},
   "outputs": [],
   "source": []
  }
 ],
 "metadata": {
  "kernelspec": {
   "display_name": "Python 3 (ipykernel)",
   "language": "python",
   "name": "python3"
  },
  "language_info": {
   "codemirror_mode": {
    "name": "ipython",
    "version": 3
   },
   "file_extension": ".py",
   "mimetype": "text/x-python",
   "name": "python",
   "nbconvert_exporter": "python",
   "pygments_lexer": "ipython3",
   "version": "3.12.3"
  }
 },
 "nbformat": 4,
 "nbformat_minor": 5
}
