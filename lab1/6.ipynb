{
 "cells": [
  {
   "cell_type": "code",
   "execution_count": null,
   "id": "1995c0c1",
   "metadata": {},
   "outputs": [],
   "source": [
    "import cv2\n",
    "import numpy as np\n",
    "\n",
    "# Read the image\n",
    "image_path = '/home/student/Pictures/Screenshots/Screenshot from 2024-12-03 11-45-00.png'  # Replace with your image path\n",
    "image = cv2.imread(image_path)\n",
    "\n",
    "# Check if image is loaded properly\n",
    "if image is None:\n",
    "    print(\"Error: Could not load image.\")\n",
    "    exit()\n",
    "\n",
    "# Get the dimensions of the image\n",
    "height, width = image.shape[:2]\n",
    "\n",
    "# Specify the center of rotation (the center of the image in this case)\n",
    "center = (width // 2, height // 2)\n",
    "\n",
    "# Define the rotation angle (in degrees)\n",
    "angle = 45  # You can change the angle as per your requirement\n",
    "\n",
    "# Create the rotation matrix\n",
    "rotation_matrix = cv2.getRotationMatrix2D(center, angle, 1)  # 1 is the scale factor (1 means no scaling)\n",
    "\n",
    "# Perform the rotation\n",
    "rotated_image = cv2.warpAffine(image, rotation_matrix, (width, height))\n",
    "\n",
    "# Display the rotated image\n",
    "cv2.imshow('Rotated Image', rotated_image)\n",
    "\n",
    "# Wait for a key press and close the window\n",
    "cv2.waitKey(0)\n",
    "cv2.destroyAllWindows()\n"
   ]
  },
  {
   "cell_type": "code",
   "execution_count": null,
   "id": "8baa44d1",
   "metadata": {},
   "outputs": [],
   "source": []
  }
 ],
 "metadata": {
  "kernelspec": {
   "display_name": "Python 3 (ipykernel)",
   "language": "python",
   "name": "python3"
  },
  "language_info": {
   "codemirror_mode": {
    "name": "ipython",
    "version": 3
   },
   "file_extension": ".py",
   "mimetype": "text/x-python",
   "name": "python",
   "nbconvert_exporter": "python",
   "pygments_lexer": "ipython3",
   "version": "3.12.3"
  }
 },
 "nbformat": 4,
 "nbformat_minor": 5
}
