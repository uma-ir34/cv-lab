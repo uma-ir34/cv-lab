{
 "cells": [
  {
   "cell_type": "code",
   "execution_count": null,
   "id": "569fb6e8",
   "metadata": {},
   "outputs": [
    {
     "name": "stderr",
     "output_type": "stream",
     "text": [
      "QSocketNotifier: Can only be used with threads started with QThread\n"
     ]
    }
   ],
   "source": [
    "import cv2\n",
    "\n",
    "img=cv2.imread('/home/student/Pictures/Screenshots/Screenshot from 2024-12-04 11-56-45.png')\n",
    "re_img=cv2.resize(img,(1000,600))\n",
    "crop_img=img[100:300,200:400,:]\n",
    "cv2.imshow(\"Original\",img)\n",
    "cv2.imshow(\"Resized\",re_img)\n",
    "cv2.imshow(\"Cropped\",crop_img)\n",
    "cv2.waitKey(0)"
   ]
  },
  {
   "cell_type": "code",
   "execution_count": null,
   "id": "99ec20cb",
   "metadata": {},
   "outputs": [],
   "source": []
  }
 ],
 "metadata": {
  "kernelspec": {
   "display_name": "Python 3 (ipykernel)",
   "language": "python",
   "name": "python3"
  },
  "language_info": {
   "codemirror_mode": {
    "name": "ipython",
    "version": 3
   },
   "file_extension": ".py",
   "mimetype": "text/x-python",
   "name": "python",
   "nbconvert_exporter": "python",
   "pygments_lexer": "ipython3",
   "version": "3.12.3"
  }
 },
 "nbformat": 4,
 "nbformat_minor": 5
}
