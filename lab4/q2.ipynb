{
 "cells": [
  {
   "cell_type": "code",
   "execution_count": 3,
   "id": "455160f5",
   "metadata": {},
   "outputs": [],
   "source": [
    "import cv2\n",
    "import numpy as np\n",
    "\n",
    "def detect_lines(image_path):\n",
    "    # Load the image in grayscale\n",
    "    img = cv2.imread(image_path, cv2.IMREAD_GRAYSCALE)\n",
    "    if img is None:\n",
    "        print(\"Error: Could not load image.\")\n",
    "        return\n",
    "    \n",
    "    # Apply Canny edge detection\n",
    "    edges = cv2.Canny(img, 50, 150, apertureSize=3)\n",
    "\n",
    "    # Use Hough Line Transform\n",
    "    lines = cv2.HoughLines(edges, 1, np.pi / 180, 100)\n",
    "    \n",
    "    # Convert to BGR for visualization\n",
    "    img_color = cv2.cvtColor(img, cv2.COLOR_GRAY2BGR)\n",
    "\n",
    "    # Draw the lines on the image\n",
    "    if lines is not None:\n",
    "        for line in lines:\n",
    "            rho, theta = line[0]\n",
    "            a = np.cos(theta)\n",
    "            b = np.sin(theta)\n",
    "            x0 = a * rho\n",
    "            y0 = b * rho\n",
    "            x1 = int(x0 + 900 * (-b))\n",
    "            y1 = int(y0 + 900 * (a))\n",
    "            x2 = int(x0 - 900 * (-b))\n",
    "            y2 = int(y0 - 900 * (a))\n",
    "            cv2.line(img_color, (x1, y1), (x2, y2), (0, 255, 0), 2)\n",
    "\n",
    "    # Show the result\n",
    "    cv2.imshow(\"Original Image\", img)\n",
    "    cv2.imshow(\"Edges\", edges)\n",
    "    cv2.imshow(\"Detected Lines\", img_color)\n",
    "\n",
    "    # Wait for a key press and close windows\n",
    "    cv2.waitKey(0)\n",
    "    cv2.destroyAllWindows()\n",
    "\n",
    "# Provide the path to your image file\n",
    "image_path = '/home/student/Pictures/Screenshots/Screenshot from 2024-12-05 09-52-26.png'\n",
    "detect_lines(image_path)\n"
   ]
  },
  {
   "cell_type": "code",
   "execution_count": null,
   "id": "67db5346",
   "metadata": {},
   "outputs": [],
   "source": []
  }
 ],
 "metadata": {
  "kernelspec": {
   "display_name": "Python 3 (ipykernel)",
   "language": "python",
   "name": "python3"
  },
  "language_info": {
   "codemirror_mode": {
    "name": "ipython",
    "version": 3
   },
   "file_extension": ".py",
   "mimetype": "text/x-python",
   "name": "python",
   "nbconvert_exporter": "python",
   "pygments_lexer": "ipython3",
   "version": "3.12.3"
  }
 },
 "nbformat": 4,
 "nbformat_minor": 5
}
