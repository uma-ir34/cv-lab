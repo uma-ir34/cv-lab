{
 "cells": [
  {
   "cell_type": "code",
   "execution_count": 2,
   "id": "a39c2955",
   "metadata": {},
   "outputs": [],
   "source": [
    "import cv2\n",
    "import numpy as np\n",
    "\n",
    "def segment_image(image_path, lower_color_bound, upper_color_bound, output_path='segmented_output.png'):\n",
    "    image = cv2.imread(image_path)\n",
    "    hsv_image = cv2.cvtColor(image, cv2.COLOR_BGR2HSV)\n",
    "    lower_bound = np.array(lower_color_bound, dtype=np.uint8)\n",
    "    upper_bound = np.array(upper_color_bound, dtype=np.uint8)\n",
    "    mask = cv2.inRange(hsv_image, lower_bound, upper_bound)\n",
    "    segmented_image = cv2.bitwise_and(image, image, mask=mask)\n",
    "    cv2.imwrite(output_path, segmented_image)\n",
    "    cv2.imshow('Original Image', image)\n",
    "    cv2.imshow('Segmented Image', segmented_image)\n",
    "    cv2.waitKey(0)\n",
    "    cv2.destroyAllWindows()\n",
    "\n",
    "if __name__ == \"__main__\":\n",
    "    lower_red = (0, 120, 70)\n",
    "    upper_red = (100, 255, 255)\n",
    "    segment_image('/home/student/Pictures/Screenshots/Screenshot from 2024-12-06 11-30-13.png', lower_red, upper_red)"
   ]
  },
  {
   "cell_type": "code",
   "execution_count": null,
   "id": "c4537602",
   "metadata": {},
   "outputs": [],
   "source": []
  }
 ],
 "metadata": {
  "kernelspec": {
   "display_name": "Python 3 (ipykernel)",
   "language": "python",
   "name": "python3"
  },
  "language_info": {
   "codemirror_mode": {
    "name": "ipython",
    "version": 3
   },
   "file_extension": ".py",
   "mimetype": "text/x-python",
   "name": "python",
   "nbconvert_exporter": "python",
   "pygments_lexer": "ipython3",
   "version": "3.12.3"
  }
 },
 "nbformat": 4,
 "nbformat_minor": 5
}
